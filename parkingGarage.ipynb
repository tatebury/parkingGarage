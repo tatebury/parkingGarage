{
 "cells": [
  {
   "cell_type": "markdown",
   "id": "b19aed96",
   "metadata": {},
   "source": [
    "## Parking Garage Ticket Machine Program\n",
    "#### Plan:\n",
    "1. Framework: ParkingGarage class which contains an init constructor with variables tickets, parkingSpaces, and currentTicket. And the following 4 class methods:\n",
    "2. takeInput: this method should be run upon importing/calling the class and ask the user what they want to do(park, pay, or leave).\n",
    "3. takeTicket: this method is called if the user enters 'park'. If there are any tickets, it first prompts the user to take a ticket, then adds the ticket number to currentTicket and subtracts 1 from tickets and parking spaces.\n",
    "4. payForParking: this method is called when the user either enters it or the leave method determines that they have not yet payed. Upon receiving the ticket number it looks up that number in the currentTicket dictionary, if not payed, promts the user to input something to simulate paying, then edits currentTicket to show that the ticket is now payed. Once this is all done the leave method is called, passing in the current input.\n",
    "5. leaveGarage: this method is called either manually by the user or upon completion of the pay method. It checks the input with the dictionary to determine if it has been payed, if not calls payForParking, if so leaves the user a message and adds 1 to tickets and parkingSpaces."
   ]
  },
  {
   "cell_type": "code",
   "execution_count": 1,
   "id": "15467ade",
   "metadata": {},
   "outputs": [],
   "source": [
    "class ParkingGarage:\n",
    "    def __init__(self, tickets=10, parkingSpaces=10, currentTicket={}):\n",
    "        self.tickets = tickets\n",
    "        self.parkingSpaces = parkingSpaces\n",
    "        self.currentTicket = currentTicket\n",
    "        \n",
    "    def takeInput(self):\n",
    "        action = input(\"Would you like to: Park, Pay or Leave? \")\n",
    "        \n",
    "        if action.lower()=='park':\n",
    "            self.takeTicket()\n",
    "        elif action.lower()=='pay':\n",
    "            self.payForParking()\n",
    "        elif action.lower()=='leave':\n",
    "            self.leaveGarage()\n",
    "        else:\n",
    "            print('I do not recognize that word. ')\n",
    "            \n",
    "    def takeTicket(self):\n",
    "        if self.tickets > 0 and self.parkingSpaces > 0:\n",
    "            self.currentTicket[self.tickets] = \"\"\n",
    "            print(f\"Here is ticket number {self.tickets}\")\n",
    "            self.tickets -= 1\n",
    "            self.parkingSpaces -= 1\n",
    "        else:\n",
    "            print(\"Parking lot is full, please come again later.\")\n",
    "        self.takeInput()    \n",
    "        \n",
    "    def payForParking(self):\n",
    "        ticketNum = int(input(\"Enter your ticket number: \"))\n",
    "        \n",
    "        if ticketNum in self.currentTicket.keys():\n",
    "            input(\"Type 'pay' to pay. \")\n",
    "            del self.currentTicket[ticketNum]\n",
    "            print(\"Leave Garage: \")\n",
    "            self.leaveGarage()\n",
    "            \n",
    "        else:\n",
    "            self.leaveGarage(True)\n",
    "            \n",
    "    def leaveGarage(self, cleared=False):\n",
    "        if not cleared:\n",
    "            ticketNum = int(input(\"Enter your ticket number: \"))\n",
    "            if ticketNum not in self.currentTicket:\n",
    "                self.tickets += 1\n",
    "                self.parkingSpaces += 1\n",
    "                print('All clear, goodbye.')\n",
    "            else:\n",
    "                print('looks like you forgot to pay...')\n",
    "                self.payForParking()\n",
    "        else:\n",
    "            print('Already payed, have a nice day.')\n",
    "        self.takeInput()\n",
    "            \n",
    "def runGarage():\n",
    "    ParkingGarage().takeInput()"
   ]
  },
  {
   "cell_type": "code",
   "execution_count": 3,
   "id": "17fd38fe",
   "metadata": {},
   "outputs": [
    {
     "name": "stdout",
     "output_type": "stream",
     "text": [
      "Would you like to: Park, Pay or Leave? park\n",
      "Here is ticket number 10\n",
      "Would you like to: Park, Pay or Leave? park\n",
      "Here is ticket number 9\n",
      "Would you like to: Park, Pay or Leave? park\n",
      "Here is ticket number 8\n",
      "Would you like to: Park, Pay or Leave? park\n",
      "Here is ticket number 7\n",
      "Would you like to: Park, Pay or Leave? park\n",
      "Here is ticket number 6\n",
      "Would you like to: Park, Pay or Leave? park\n",
      "Here is ticket number 5\n",
      "Would you like to: Park, Pay or Leave? park\n",
      "Here is ticket number 4\n",
      "Would you like to: Park, Pay or Leave? park\n",
      "Here is ticket number 3\n",
      "Would you like to: Park, Pay or Leave? park\n",
      "Here is ticket number 2\n",
      "Would you like to: Park, Pay or Leave? park\n",
      "Here is ticket number 1\n",
      "Would you like to: Park, Pay or Leave? park\n",
      "Parking lot is full, please come again later.\n",
      "Would you like to: Park, Pay or Leave? park\n",
      "Parking lot is full, please come again later.\n",
      "Would you like to: Park, Pay or Leave? asdf\n",
      "I do not recognize that word. \n"
     ]
    }
   ],
   "source": [
    "runGarage()"
   ]
  }
 ],
 "metadata": {
  "kernelspec": {
   "display_name": "Python 3",
   "language": "python",
   "name": "python3"
  },
  "language_info": {
   "codemirror_mode": {
    "name": "ipython",
    "version": 3
   },
   "file_extension": ".py",
   "mimetype": "text/x-python",
   "name": "python",
   "nbconvert_exporter": "python",
   "pygments_lexer": "ipython3",
   "version": "3.8.8"
  }
 },
 "nbformat": 4,
 "nbformat_minor": 5
}
